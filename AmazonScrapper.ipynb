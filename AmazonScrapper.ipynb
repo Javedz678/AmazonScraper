{
 "cells": [
  {
   "cell_type": "code",
   "execution_count": null,
   "metadata": {},
   "outputs": [],
   "source": [
    "scrapy startproject amazon_reviews_scraping\n",
    "scrapy genspider"
   ]
  },
  {
   "cell_type": "code",
   "execution_count": null,
   "metadata": {},
   "outputs": [],
   "source": [
    "import scrapy\n",
    "class AmazonReviewsSpider(scrapy.Spider):\n",
    " \n",
    "    name = 'amazon_reviews'\n",
    "    allowed_domains = ['amazon.in']\n",
    " \n",
    "    baseUrl = \"https://www.amazon.in/Apple-iPhone-Pro-Max-64GB/product-reviews/B07XVLMZHH/ref=pageNumber=\"\n",
    "    urls_set=[]\n",
    "    for i in range(1,50):\n",
    "        urls_set.append(baseUrl+str(i))\n",
    " \n",
    "\n",
    "    def parse(self, response):\n",
    "            data = response.css('#cm_cr-review_list')\n",
    "            star_rating = data.css('.review-rating')\n",
    "            comments = data.css('.review-text')\n",
    "            count = 0\n",
    " \n",
    "            # Combining the results\n",
    "            for review in star_rating:\n",
    "                yield{'stars': ''.join(review.xpath('.//text()').extract()),\n",
    "                      'comment': ''.join(comments[count].xpath(\".//text()\").extract())\n",
    "                     }\n",
    "                count=count+1\n"
   ]
  },
  {
   "cell_type": "code",
   "execution_count": null,
   "metadata": {},
   "outputs": [],
   "source": [
    "import pandas as pd\n",
    "import matplotlib.pyplot as plt\n",
    " \n",
    "dataset = pd.read_csv(\"reviews.csv\")\n",
    "summarised_results = dataset[\"stars\"].value_counts()\n",
    "plt.bar(summarised_results.keys(), summarised_results.values)\n",
    "plt.show()"
   ]
  }
 ],
 "metadata": {
  "kernelspec": {
   "display_name": "Python 3",
   "language": "python",
   "name": "python3"
  },
  "language_info": {
   "codemirror_mode": {
    "name": "ipython",
    "version": 3
   },
   "file_extension": ".py",
   "mimetype": "text/x-python",
   "name": "python",
   "nbconvert_exporter": "python",
   "pygments_lexer": "ipython3",
   "version": "3.7.4"
  }
 },
 "nbformat": 4,
 "nbformat_minor": 2
}
